{
 "cells": [
  {
   "cell_type": "code",
   "execution_count": 0,
   "metadata": {
    "application/vnd.databricks.v1+cell": {
     "cellMetadata": {
      "byteLimit": 2048000,
      "rowLimit": 10000
     },
     "inputWidgets": {},
     "nuid": "6769f51a-7aec-4bb6-b614-d26150438525",
     "showTitle": false,
     "title": ""
    }
   },
   "outputs": [
    {
     "output_type": "stream",
     "name": "stdout",
     "output_type": "stream",
     "text": [
      "+-----------------------------------------+\n|pcaFeatures                              |\n+-----------------------------------------+\n|[-2.818239506639468,-5.646349823412795]  |\n|[-2.788223445314679,-5.149951351762914]  |\n|[-2.613374563549708,-5.182003150742137]  |\n|[-2.7570222769675943,-5.008653597575778] |\n|[-2.7736485960544743,-5.653707089762613] |\n|[-3.221505499764512,-6.068283025890608]  |\n|[-2.6818273818683958,-5.2374911922991245]|\n|[-2.8762201594623713,-5.490337536526022] |\n|[-2.615982400828451,-4.74864082264099]   |\n|[-2.82960933478805,-5.213178330953577]   |\n|[-2.9954180419571483,-5.972021475476268] |\n|[-2.8896099017002816,-5.341682515989069] |\n|[-2.716255866420987,-5.091840576625975]  |\n|[-2.278561388743352,-4.815557989821311]  |\n|[-2.8576147426669745,-6.505717213265269] |\n|[-3.1163260990778707,-6.665014907228346] |\n|[-2.8788372573845775,-6.1376320910089515]|\n|[-2.8540684263546225,-5.638801721421048] |\n|[-3.3025448089914238,-6.199791615789906] |\n|[-2.9143787327302357,-5.84051288557697]  |\n+-----------------------------------------+\nonly showing top 20 rows\n\n"
     ]
    }
   ],
   "source": [
    "from sklearn.datasets import load_iris\n",
    "from pyspark.sql import SparkSession\n",
    "from pyspark.ml.feature import VectorAssembler\n",
    "import pandas as pd\n",
    "from sklearn.datasets import load_iris\n",
    "\n",
    "# Start Spark Session\n",
    "spark = SparkSession.builder.appName(\"PCA_Iris\").getOrCreate()\n",
    "\n",
    "# Load Iris dataset\n",
    "iris = load_iris()\n",
    "iris_df = pd.DataFrame(iris.data, columns=iris.feature_names)\n",
    "iris_spark_df = spark.createDataFrame(iris_df)\n",
    "\n",
    "# Correctly prepare the input columns for VectorAssembler\n",
    "input_columns = iris_df.columns.tolist()  # Convert column names to a list of strings\n",
    "\n",
    "# Assemble features with VectorAssembler\n",
    "vec_assembler = VectorAssembler(inputCols=input_columns, outputCol=\"features\")\n",
    "iris_features_df = vec_assembler.transform(iris_spark_df)\n",
    "\n",
    "\n",
    "# Initialize PCA model\n",
    "pca = PCA(k=2, inputCol=\"features\", outputCol=\"pcaFeatures\")\n",
    "\n",
    "# Fit and transform\n",
    "model = pca.fit(iris_features_df)\n",
    "iris_pca_df = model.transform(iris_features_df).select(\"pcaFeatures\")\n",
    "iris_pca_df.show(truncate=False)\n",
    "spark.stop()\n",
    "\n"
   ]
  },
  {
   "cell_type": "code",
   "execution_count": 0,
   "metadata": {
    "application/vnd.databricks.v1+cell": {
     "cellMetadata": {
      "byteLimit": 2048000,
      "rowLimit": 10000
     },
     "inputWidgets": {},
     "nuid": "12d94757-77b7-4624-aca6-298fb548def7",
     "showTitle": false,
     "title": ""
    }
   },
   "outputs": [],
   "source": []
  }
 ],
 "metadata": {
  "application/vnd.databricks.v1+notebook": {
   "dashboards": [],
   "language": "python",
   "notebookMetadata": {
    "pythonIndentUnit": 4
   },
   "notebookName": "DM Part-2 2023-12-09 23:19:31",
   "widgets": {}
  }
 },
 "nbformat": 4,
 "nbformat_minor": 0
}
